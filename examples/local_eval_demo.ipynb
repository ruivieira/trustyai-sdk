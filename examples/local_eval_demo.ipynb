{
 "cells": [
  {
   "cell_type": "markdown",
   "metadata": {
    "vscode": {
     "languageId": "raw"
    }
   },
   "source": [
    "# TrustyAI Evaluation Demo\n",
    "\n",
    "This notebook demonstrates how to use the TrustyAI SDK's evaluation functionality to evaluate language models using the LM Evaluation Harness both locally and on Kubernetes.\n",
    "\n",
    "## Prerequisites\n",
    "\n",
    "Make sure you have installed TrustyAI with evaluation support:\n",
    "\n",
    "```bash\n",
    "pip install .[eval]\n",
    "```\n",
    "\n",
    "Or for all features:\n",
    "\n",
    "```bash\n",
    "pip install .[all]\n",
    "```\n"
   ]
  },
  {
   "cell_type": "markdown",
   "metadata": {
    "vscode": {
     "languageId": "raw"
    }
   },
   "source": [
    "## 1. Basic Setup and Imports\n",
    "\n",
    "First, let's import the necessary modules and check what evaluation providers are available.\n"
   ]
  },
  {
   "cell_type": "code",
   "execution_count": 1,
   "metadata": {},
   "outputs": [],
   "source": [
    "from trustyai import Providers\n",
    "from trustyai.core import DeploymentMode\n",
    "from trustyai.core.eval import EvaluationProviderConfig"
   ]
  },
  {
   "cell_type": "markdown",
   "metadata": {},
   "source": [
    "Available provider types:"
   ]
  },
  {
   "cell_type": "code",
   "execution_count": 2,
   "metadata": {},
   "outputs": [
    {
     "data": {
      "text/plain": [
       "['bias_detection', 'eval', 'evaluation', 'explainability']"
      ]
     },
     "execution_count": 2,
     "metadata": {},
     "output_type": "execute_result"
    }
   ],
   "source": [
    "dir(Providers)"
   ]
  },
  {
   "cell_type": "markdown",
   "metadata": {},
   "source": [
    "Available **evaluation** providers:"
   ]
  },
  {
   "cell_type": "code",
   "execution_count": 3,
   "metadata": {},
   "outputs": [
    {
     "data": {
      "text/plain": [
       "['LMEvalProvider']"
      ]
     },
     "execution_count": 3,
     "metadata": {},
     "output_type": "execute_result"
    }
   ],
   "source": [
    "dir(Providers.eval)"
   ]
  },
  {
   "cell_type": "markdown",
   "metadata": {
    "vscode": {
     "languageId": "raw"
    }
   },
   "source": [
    "We'll use: `Providers.eval.LMEvalProvider`\n",
    "\n",
    "The deployment mode in the config will determine whether it runs _locally_ or on _Kubernetes_.\n",
    "\n",
    "## 2. Initialise the Evaluation Provider\n",
    "\n",
    "Now let's create and initialise the evaluation provider using the new organised Providers class.\n"
   ]
  },
  {
   "cell_type": "code",
   "execution_count": 4,
   "metadata": {},
   "outputs": [],
   "source": [
    "# Create the evaluation provider\n",
    "provider = Providers.eval.LMEvalProvider()"
   ]
  },
  {
   "cell_type": "code",
   "execution_count": 5,
   "metadata": {},
   "outputs": [
    {
     "name": "stderr",
     "output_type": "stream",
     "text": [
      "/home/rui/Sync/code/rh/trusty/trustyai-sdk/.venv/lib/python3.11/site-packages/tqdm/auto.py:21: TqdmWarning: IProgress not found. Please update jupyter and ipywidgets. See https://ipywidgets.readthedocs.io/en/stable/user_install.html\n",
      "  from .autonotebook import tqdm as notebook_tqdm\n"
     ]
    }
   ],
   "source": [
    "# Initialise the provider (this will check if lm-eval is available)\n",
    "try:\n",
    "    provider.initialize()\n",
    "except ImportError as e:\n",
    "    print(f\"\\n✗ Error initialising provider: {e}\")"
   ]
  },
  {
   "cell_type": "code",
   "execution_count": 6,
   "metadata": {},
   "outputs": [
    {
     "data": {
      "text/plain": [
       "'LMEvalProvider'"
      ]
     },
     "execution_count": 6,
     "metadata": {},
     "output_type": "execute_result"
    }
   ],
   "source": [
    "provider.__class__.__name__"
   ]
  },
  {
   "cell_type": "code",
   "execution_count": 7,
   "metadata": {},
   "outputs": [
    {
     "data": {
      "text/plain": [
       "'eval'"
      ]
     },
     "execution_count": 7,
     "metadata": {},
     "output_type": "execute_result"
    }
   ],
   "source": [
    "provider.provider_type()"
   ]
  },
  {
   "cell_type": "markdown",
   "metadata": {},
   "source": [
    "Supported deployment modes:"
   ]
  },
  {
   "cell_type": "code",
   "execution_count": 8,
   "metadata": {},
   "outputs": [
    {
     "data": {
      "text/plain": [
       "['local', 'kubernetes']"
      ]
     },
     "execution_count": 8,
     "metadata": {},
     "output_type": "execute_result"
    }
   ],
   "source": [
    "[mode.value for mode in provider.supported_deployment_modes]"
   ]
  },
  {
   "cell_type": "markdown",
   "metadata": {
    "vscode": {
     "languageId": "raw"
    }
   },
   "source": [
    "## 4. Basic Evaluation Example\n",
    "\n",
    "Let's run a basic evaluation using a small model and a simple task. We'll use google/flan-t5-base (a small model) and the arc_easy task for demonstration.\n"
   ]
  },
  {
   "cell_type": "code",
   "execution_count": 9,
   "metadata": {},
   "outputs": [],
   "source": [
    "# Create evaluation configuration\n",
    "config = EvaluationProviderConfig(\n",
    "    evaluation_name=\"arc_easy\",\n",
    "    model=\"google/flan-t5-base\",  # Small model for quick evaluation\n",
    "    tasks=[\"arc_easy\"],  # Common sense reasoning task\n",
    "    limit=5,  # Limit to 5 examples for quick demonstration\n",
    "    metrics=[\"acc\", \"acc_norm\"],  # Accuracy metrics\n",
    "    device=\"cpu\",  # Use CPU to avoid GPU requirements\n",
    "    deployment_mode=DeploymentMode.LOCAL,\n",
    "    batch_size=1,  # Small batch size for stability\n",
    "    num_fewshot=0,  # Zero-shot evaluation\n",
    ")"
   ]
  },
  {
   "cell_type": "code",
   "execution_count": 10,
   "metadata": {},
   "outputs": [
    {
     "data": {
      "text/plain": [
       "EvaluationProviderConfig(evaluation_name='arc_easy', model='google/flan-t5-base', tasks=['arc_easy'], limit=5, metrics=['acc', 'acc_norm'], device='cpu', deployment_mode=ExecutionMode.LOCAL, additional_params={'batch_size': 1, 'num_fewshot': 0})"
      ]
     },
     "execution_count": 10,
     "metadata": {},
     "output_type": "execute_result"
    }
   ],
   "source": [
    "config"
   ]
  },
  {
   "cell_type": "markdown",
   "metadata": {},
   "source": [
    "Run the evaluation:"
   ]
  },
  {
   "cell_type": "code",
   "execution_count": 11,
   "metadata": {},
   "outputs": [
    {
     "name": "stdout",
     "output_type": "stream",
     "text": [
      "[DEBUG - _parse_args_to_config] Args=1: has namespace? False\n",
      "Using device: cpu for model evaluation\n"
     ]
    },
    {
     "name": "stderr",
     "output_type": "stream",
     "text": [
      "2025-06-27:23:47:48 INFO     [models.huggingface:137] Using device 'cpu'\n",
      "2025-06-27:23:47:49 INFO     [models.huggingface:382] Model parallel was set to False, max memory was not set, and device map was set to {'': 'cpu'}\n",
      "2025-06-27:23:47:53 INFO     [evaluator:189] Setting random seed to 0 | Setting numpy seed to 1234 | Setting torch manual seed to 1234 | Setting fewshot manual seed to 1234\n",
      "2025-06-27:23:47:53 INFO     [evaluator:243] Using pre-initialized model\n",
      "2025-06-27:23:47:57 WARNING  [evaluator:309] Overwriting default num_fewshot of arc_easy from None to 0\n",
      "2025-06-27:23:47:57 INFO     [api.task:434] Building contexts for arc_easy on rank 0...\n",
      "100%|██████████| 5/5 [00:00<00:00, 2484.48it/s]\n",
      "2025-06-27:23:47:57 INFO     [evaluator:559] Running loglikelihood requests\n",
      "Running loglikelihood requests:   0%|          | 0/20 [00:00<?, ?it/s]Passing a tuple of `past_key_values` is deprecated and will be removed in Transformers v4.48.0. You should pass an instance of `EncoderDecoderCache` instead, e.g. `past_key_values=EncoderDecoderCache.from_legacy_cache(past_key_values)`.\n",
      "Running loglikelihood requests: 100%|██████████| 20/20 [00:14<00:00,  1.35it/s]\n"
     ]
    }
   ],
   "source": [
    "results = provider.evaluate(config)"
   ]
  },
  {
   "cell_type": "markdown",
   "metadata": {
    "vscode": {
     "languageId": "raw"
    }
   },
   "source": [
    "## 5. Local vs Kubernetes Comparison\n",
    "\n",
    "Compare the same configuration running locally vs on Kubernetes. This demonstrates how the same provider handles both deployment modes.\n"
   ]
  },
  {
   "cell_type": "code",
   "execution_count": 12,
   "metadata": {},
   "outputs": [],
   "source": [
    "# Shared configuration for both deployments\n",
    "shared_config = {\n",
    "    \"evaluation_name\": \"comparison_demo\",\n",
    "    \"model\": \"google/flan-t5-base\",\n",
    "    \"tasks\": [\"arc_easy\"],\n",
    "    \"limit\": 3,  # Small limit for quick comparison\n",
    "    \"metrics\": [\"acc\", \"acc_norm\"],\n",
    "    \"batch_size\": 1,\n",
    "    \"num_fewshot\": 0,\n",
    "}"
   ]
  },
  {
   "cell_type": "code",
   "execution_count": 13,
   "metadata": {},
   "outputs": [],
   "source": [
    "# Configuration for LOCAL deployment\n",
    "local_config = EvaluationProviderConfig(\n",
    "    **shared_config, deployment_mode=DeploymentMode.LOCAL, device=\"cpu\"\n",
    ")"
   ]
  },
  {
   "cell_type": "code",
   "execution_count": 14,
   "metadata": {},
   "outputs": [],
   "source": [
    "# Configuration for KUBERNETES deployment\n",
    "kubernetes_config = EvaluationProviderConfig(\n",
    "    **shared_config,\n",
    "    deployment_mode=DeploymentMode.KUBERNETES,\n",
    "    namespace=\"test\",\n",
    "    deploy=True,\n",
    "    wait_for_completion=True,\n",
    "    timeout=300,\n",
    ")"
   ]
  },
  {
   "cell_type": "markdown",
   "metadata": {},
   "source": [
    "First, run the local evaluation:"
   ]
  },
  {
   "cell_type": "code",
   "execution_count": 15,
   "metadata": {},
   "outputs": [
    {
     "name": "stderr",
     "output_type": "stream",
     "text": [
      "2025-06-27:23:48:30 INFO     [models.huggingface:137] Using device 'cpu'\n"
     ]
    },
    {
     "name": "stdout",
     "output_type": "stream",
     "text": [
      "[DEBUG - _parse_args_to_config] Args=1: has namespace? False\n",
      "Using device: cpu for model evaluation\n"
     ]
    },
    {
     "name": "stderr",
     "output_type": "stream",
     "text": [
      "2025-06-27:23:48:31 INFO     [models.huggingface:382] Model parallel was set to False, max memory was not set, and device map was set to {'': 'cpu'}\n",
      "2025-06-27:23:48:33 INFO     [evaluator:189] Setting random seed to 0 | Setting numpy seed to 1234 | Setting torch manual seed to 1234 | Setting fewshot manual seed to 1234\n",
      "2025-06-27:23:48:33 INFO     [evaluator:243] Using pre-initialized model\n",
      "2025-06-27:23:48:35 WARNING  [evaluator:309] Overwriting default num_fewshot of arc_easy from None to 0\n",
      "2025-06-27:23:48:35 INFO     [api.task:434] Building contexts for arc_easy on rank 0...\n",
      "100%|██████████| 3/3 [00:00<00:00, 2292.39it/s]\n",
      "2025-06-27:23:48:35 INFO     [evaluator:559] Running loglikelihood requests\n",
      "Running loglikelihood requests: 100%|██████████| 12/12 [00:00<00:00, 20.32it/s]\n"
     ]
    }
   ],
   "source": [
    "local_results = provider.evaluate(local_config)"
   ]
  },
  {
   "cell_type": "markdown",
   "metadata": {},
   "source": [
    "Next, run the same evaluation, but on Kubernetes:"
   ]
  },
  {
   "cell_type": "code",
   "execution_count": 18,
   "metadata": {},
   "outputs": [
    {
     "name": "stdout",
     "output_type": "stream",
     "text": [
      "[DEBUG - _parse_args_to_config] Args=1: has namespace? True\n",
      "[DEBUG - _parse_args_to_config] Namespace value: test\n",
      "[DEBUG - _evaluate_kubernetes_async] Config keys: ['__class__', '__delattr__', '__dict__', '__dir__', '__doc__', '__eq__', '__format__', '__ge__', '__getattribute__', '__getstate__', '__gt__', '__hash__', '__init__', '__init_subclass__', '__le__', '__lt__', '__module__', '__ne__', '__new__', '__reduce__', '__reduce_ex__', '__repr__', '__setattr__', '__sizeof__', '__str__', '__subclasshook__', '__weakref__', 'additional_params', 'deployment_mode', 'device', 'evaluation_name', 'get_param', 'limit', 'metrics', 'model', 'tasks']\n",
      "[DEBUG - _evaluate_kubernetes_async] Config namespace: test\n",
      "[DEBUG] Using namespace for CR: test\n",
      "[DEBUG] Setting limit in config as string: 3\n",
      "[DEBUG] Setting namespace in LMEvalJob resource: test\n",
      "[DEBUG] Setting limit as string: 3\n",
      "[DEBUG] Deploying LMEvalJob to namespace: test\n",
      "[DEBUG] API Group: trustyai.opendatahub.io, Version: v1alpha1\n",
      "[DEBUG] Resource metadata: {'name': 'evaljob-de8c28ca', 'namespace': 'test'}\n",
      "[DEBUG] Successfully created LMEvalJob 'evaljob-de8c28ca' in namespace 'test'\n",
      "[DEBUG] Successfully deployed LMEvalJob: evaljob-de8c28ca\n",
      "[DEBUG] Waiting for completion of job: evaljob-de8c28ca\n",
      "⏳ Waiting for job evaljob-de8c28ca to complete...\n",
      "[DEBUG] Job evaljob-de8c28ca state: scheduled\n",
      "🔄 Job evaljob-de8c28ca still running (state: scheduled)...\n",
      "[DEBUG] Job evaljob-de8c28ca state: running\n",
      "🔄 Job evaljob-de8c28ca still running (state: running)...\n",
      "[DEBUG] Job evaljob-de8c28ca state: running\n",
      "🔄 Job evaljob-de8c28ca still running (state: running)...\n",
      "[DEBUG] Job evaljob-de8c28ca state: complete\n",
      "✅ Job evaljob-de8c28ca completed successfully!\n"
     ]
    }
   ],
   "source": [
    "kubernetes_results = await provider.evaluate(kubernetes_config)"
   ]
  },
  {
   "cell_type": "markdown",
   "metadata": {},
   "source": [
    "Results comparison:"
   ]
  },
  {
   "cell_type": "code",
   "execution_count": 19,
   "metadata": {},
   "outputs": [
    {
     "name": "stdout",
     "output_type": "stream",
     "text": [
      "\n",
      "📊 LOCAL RESULTS:\n",
      "--------------------\n",
      "✅ Task: arc_easy\n",
      "   alias: arc_easy\n",
      "   acc,none: 0.6666666666666666\n",
      "   acc_stderr,none: 0.33333333333333337\n",
      "   acc_norm,none: 0.6666666666666666\n",
      "   acc_norm_stderr,none: 0.33333333333333337\n",
      "\n",
      "🚀 KUBERNETES RESULTS:\n",
      "--------------------\n",
      "✅ Task: arc_easy\n",
      "   alias: arc_easy\n",
      "   acc,none: 0.6666666666666666\n",
      "   acc_stderr,none: 0.33333333333333337\n",
      "   acc_norm,none: 0.6666666666666666\n",
      "   acc_norm_stderr,none: 0.33333333333333337\n"
     ]
    }
   ],
   "source": [
    "print(\"\\n📊 LOCAL RESULTS:\")\n",
    "print(\"-\" * 20)\n",
    "if local_results and \"results\" in local_results:\n",
    "    for task_name, task_results in local_results[\"results\"].items():\n",
    "        print(f\"✅ Task: {task_name}\")\n",
    "        for metric, value in task_results.items():\n",
    "            print(f\"   {metric}: {value}\")\n",
    "\n",
    "print(\"\\n🚀 KUBERNETES RESULTS:\")\n",
    "print(\"-\" * 20)\n",
    "if kubernetes_results and \"results\" in kubernetes_results:\n",
    "    for task_name, task_results in kubernetes_results[\"results\"].items():\n",
    "        print(f\"✅ Task: {task_name}\")\n",
    "        for metric, value in task_results.items():\n",
    "            print(f\"   {metric}: {value}\")"
   ]
  },
  {
   "cell_type": "code",
   "execution_count": null,
   "metadata": {},
   "outputs": [],
   "source": []
  }
 ],
 "metadata": {
  "kernelspec": {
   "display_name": ".venv",
   "language": "python",
   "name": "python3"
  },
  "language_info": {
   "codemirror_mode": {
    "name": "ipython",
    "version": 3
   },
   "file_extension": ".py",
   "mimetype": "text/x-python",
   "name": "python",
   "nbconvert_exporter": "python",
   "pygments_lexer": "ipython3",
   "version": "3.12.10"
  }
 },
 "nbformat": 4,
 "nbformat_minor": 2
}
